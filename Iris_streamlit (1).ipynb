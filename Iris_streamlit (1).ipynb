{
  "nbformat": 4,
  "nbformat_minor": 0,
  "metadata": {
    "colab": {
      "name": "Iris_streamlit.ipynb",
      "provenance": [],
      "collapsed_sections": []
    },
    "kernelspec": {
      "name": "python3",
      "display_name": "Python 3"
    },
    "language_info": {
      "name": "python"
    }
  },
  "cells": [
    {
      "cell_type": "code",
      "execution_count": null,
      "metadata": {
        "id": "CHQRDQEI0R9-"
      },
      "outputs": [],
      "source": [
        "#CREATING WEB APP USING STREAMLIT"
      ]
    },
    {
      "cell_type": "markdown",
      "source": [
        ""
      ],
      "metadata": {
        "id": "FCZO5yAg-0p8"
      }
    },
    {
      "cell_type": "code",
      "source": [
        "!pip install streamlit --quiet # Installing the streamlit library\n"
      ],
      "metadata": {
        "id": "Z2rn98cX1pUj"
      },
      "execution_count": null,
      "outputs": []
    },
    {
      "cell_type": "code",
      "source": [
        "# %%writefile app.py\n",
        "# #%%writefile app.py is a magic command which creates a file named app.py\n",
        "# import streamlit as st\n",
        "# import joblib\n",
        "# model = joblib.load('Iris')\n",
        "# st.title('SPAM-HAM CLASSIFIER')# creates a title with name spam-ham classifier\n",
        "# ip = st.('Enter the Message')#creates a text box\n",
        "# op = model.predict([[ip]])\n",
        "# if st.button('Predict'):\n",
        "#   st.title(op[0])#st.button will create a button with name predict\n",
        "#   #st.title(op[0]) - the output will be displayed as a title"
      ],
      "metadata": {
        "id": "hd0pQs4S1yVs"
      },
      "execution_count": null,
      "outputs": []
    },
    {
      "cell_type": "code",
      "source": [
        "%%writefile app.py\n",
        "import streamlit as st\n",
        "import numpy as np\n",
        "\n",
        "import joblib\n",
        "\n",
        "\n",
        "\n",
        "# loading the saved model\n",
        "loaded_model = joblib.load('Iris1')\n",
        "\n",
        "\n",
        "# creating a function for Prediction\n",
        "\n",
        "def Iris_prediction(input_data):\n",
        "    \n",
        "\n",
        "    # changing the input_data to numpy array\n",
        "    input_data_as_numpy_array = np.asarray(input_data)\n",
        "\n",
        "    # reshape the array as we are predicting for one instance\n",
        "    input_data_reshaped = input_data_as_numpy_array.reshape(1,-1)\n",
        "\n",
        "    prediction = loaded_model.predict(input_data_reshaped)\n",
        "    print(prediction)\n",
        "\n",
        "    if (prediction[0] =='Iris-setosa'):\n",
        "      return 'Iris-setosa flower'\n",
        "    elif(prediction[0] =='Iris-versicolor'):\n",
        "      return 'Iris-versicolor flower'\n",
        "    else:\n",
        "      return 'Iris-virginica'\n",
        "  \n",
        "    \n",
        "  \n",
        "def main():\n",
        "    \n",
        "    \n",
        "    # giving a title\n",
        "    st.title('Iris flower Prediction Web App')\n",
        "    \n",
        "    \n",
        "    # getting the input data from the user\n",
        "    \n",
        "    \n",
        "    sepal_length= st.text_input('Length of Sepal')\n",
        "    sepal_width= st.text_input(' Enter sepal width')\n",
        "    petal_length= st.text_input('Enter Length of Petal')\n",
        "    petal_width= st.text_input('Enter petal width')\n",
        "    \n",
        "    \n",
        "    # code for Prediction\n",
        "    diagnosis = ''\n",
        "    \n",
        "    # creating a button for Prediction\n",
        "    \n",
        "    if st.button('Result'):\n",
        "        diagnosis = Iris_prediction([[sepal_length,\tsepal_width,\tpetal_length,\tpetal_width\t]])\n",
        "        \n",
        "       \n",
        "    st.success(diagnosis)\n",
        "    \n",
        "    \n",
        "if __name__ == '__main__':\n",
        "    main()\n",
        "    "
      ],
      "metadata": {
        "id": "SIssb_kx5NED",
        "outputId": "296aee98-ad52-409f-b794-e2600f944573",
        "colab": {
          "base_uri": "https://localhost:8080/"
        }
      },
      "execution_count": null,
      "outputs": [
        {
          "output_type": "stream",
          "name": "stdout",
          "text": [
            "Overwriting app.py\n"
          ]
        }
      ]
    },
    {
      "cell_type": "code",
      "source": [
        "#TEMPORARY DEPLOYMENT\n",
        "!streamlit run app.py & npx localtunnel --port 8501\n",
        "#8501 is the default port number for local tunnel"
      ],
      "metadata": {
        "colab": {
          "base_uri": "https://localhost:8080/"
        },
        "id": "IkADehRFBjy5",
        "outputId": "0a043351-ed75-4028-f928-cba3addbc693"
      },
      "execution_count": null,
      "outputs": [
        {
          "output_type": "stream",
          "name": "stdout",
          "text": [
            "2022-07-09 09:08:35.800 INFO    numexpr.utils: NumExpr defaulting to 2 threads.\n",
            "\u001b[0m\n",
            "\u001b[34m\u001b[1m  You can now view your Streamlit app in your browser.\u001b[0m\n",
            "\u001b[0m\n",
            "\u001b[34m  Network URL: \u001b[0m\u001b[1mhttp://172.28.0.2:8501\u001b[0m\n",
            "\u001b[34m  External URL: \u001b[0m\u001b[1mhttp://35.185.170.1:8501\u001b[0m\n",
            "\u001b[0m\n",
            "\u001b[K\u001b[?25hnpx: installed 22 in 3.322s\n",
            "your url is: https://witty-worms-kick-35-185-170-1.loca.lt\n",
            "/usr/local/lib/python3.7/dist-packages/sklearn/base.py:566: FutureWarning: Arrays of bytes/strings is being converted to decimal numbers if dtype='numeric'. This behavior is deprecated in 0.24 and will be removed in 1.1 (renaming of 0.26). Please convert your data to numeric values explicitly instead.\n",
            "  X = check_array(X, **check_params)\n",
            "['Iris-virginica']\n",
            "/usr/local/lib/python3.7/dist-packages/sklearn/base.py:566: FutureWarning: Arrays of bytes/strings is being converted to decimal numbers if dtype='numeric'. This behavior is deprecated in 0.24 and will be removed in 1.1 (renaming of 0.26). Please convert your data to numeric values explicitly instead.\n",
            "  X = check_array(X, **check_params)\n",
            "['Iris-virginica']\n",
            "/usr/local/lib/python3.7/dist-packages/sklearn/base.py:566: FutureWarning: Arrays of bytes/strings is being converted to decimal numbers if dtype='numeric'. This behavior is deprecated in 0.24 and will be removed in 1.1 (renaming of 0.26). Please convert your data to numeric values explicitly instead.\n",
            "  X = check_array(X, **check_params)\n",
            "['Iris-virginica']\n"
          ]
        }
      ]
    },
    {
      "cell_type": "code",
      "source": [
        ""
      ],
      "metadata": {
        "id": "bdzBsJZmByor"
      },
      "execution_count": null,
      "outputs": []
    }
  ]
}